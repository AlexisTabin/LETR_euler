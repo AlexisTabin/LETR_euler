{
 "cells": [
  {
   "cell_type": "code",
   "execution_count": 5,
   "metadata": {},
   "outputs": [],
   "source": [
    "import json"
   ]
  },
  {
   "cell_type": "code",
   "execution_count": 3,
   "metadata": {},
   "outputs": [],
   "source": [
    "wireframe_raw_path = 'data/wireframe_processed/'\n",
    "wireframe_raw_train = wireframe_raw_path + 'annotations/lines_train2017.json'\n",
    "wireframe_raw_images = wireframe_raw_path + 'images/'"
   ]
  },
  {
   "cell_type": "code",
   "execution_count": 7,
   "metadata": {},
   "outputs": [],
   "source": [
    "# open train.json\n",
    "with open(wireframe_raw_train) as f:\n",
    "    train = json.load(f)"
   ]
  },
  {
   "cell_type": "code",
   "execution_count": 10,
   "metadata": {},
   "outputs": [
    {
     "name": "stdout",
     "output_type": "stream",
     "text": [
      "images\n",
      "annotations\n",
      "categories\n"
     ]
    }
   ],
   "source": [
    "# iterate on key, value in train.json\n",
    "for key, value in train.items():\n",
    "    print(key)"
   ]
  },
  {
   "cell_type": "code",
   "execution_count": 20,
   "metadata": {},
   "outputs": [
    {
     "name": "stdout",
     "output_type": "stream",
     "text": [
      "Length of images:  5000\n",
      "Length of annotations:  374884\n",
      "Length of categories:  1\n",
      "{'file_name': '00030159.png', 'height': 375, 'width': 500, 'id': 3}\n",
      "{'id': 3, 'image_id': 0, 'category_id': 0, 'line': [164.16184997558594, 26.806358337402344, 113.87281799316406, -2.3121395111083984], 'area': 1}\n",
      "{'supercategory': 'line', 'id': '0', 'name': 'line'}\n"
     ]
    }
   ],
   "source": [
    "nb = 3\n",
    "im1 = train['images'][nb]\n",
    "anno1 = train['annotations'][nb]\n",
    "cat1 = train['categories'][0]\n",
    "print(\"Length of images: \", len(train['images']))\n",
    "print(\"Length of annotations: \", len(train['annotations']))\n",
    "print(\"Length of categories: \", len(train['categories']))\n",
    "print(im1)\n",
    "print(anno1)\n",
    "print(cat1)"
   ]
  },
  {
   "cell_type": "code",
   "execution_count": null,
   "metadata": {},
   "outputs": [],
   "source": []
  }
 ],
 "metadata": {
  "kernelspec": {
   "display_name": "Python 3",
   "language": "python",
   "name": "python3"
  },
  "language_info": {
   "codemirror_mode": {
    "name": "ipython",
    "version": 3
   },
   "file_extension": ".py",
   "mimetype": "text/x-python",
   "name": "python",
   "nbconvert_exporter": "python",
   "pygments_lexer": "ipython3",
   "version": "3.10.6 (main, Nov 14 2022, 16:10:14) [GCC 11.3.0]"
  },
  "orig_nbformat": 4,
  "vscode": {
   "interpreter": {
    "hash": "916dbcbb3f70747c44a77c7bcd40155683ae19c65e1c03b4aa3499c5328201f1"
   }
  }
 },
 "nbformat": 4,
 "nbformat_minor": 2
}
