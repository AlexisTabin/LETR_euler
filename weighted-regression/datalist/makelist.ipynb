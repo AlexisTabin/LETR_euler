{
 "cells": [
  {
   "cell_type": "code",
   "execution_count": 18,
   "metadata": {},
   "outputs": [],
   "source": [
    "with open('metadata_images_split_scene_v1.csv') as old, open('testing_hypersim_short.odgt', 'w') as new:\n",
    "    for line in old:\n",
    "        strs = line.replace('\\n', '').split(',')\n",
    "        # print(strs)\n",
    "        if(strs[0].split('_')[1] == '004'):\n",
    "            break\n",
    "        if (strs[-2] == '' and bool(strs[-3]) and strs[-1] == 'test' ):\n",
    "            new.write('{\"fpath_img\": \"' + strs[-1] + '/' + strs[0] + '/images/scene_' + strs[1] + '_final_preview/frame.%04d.color.jpg\", ' % (int(strs[2])) + \\\n",
    "                '\"fpath_segm\": \"' + strs[-1] + '/' + strs[0] + '/normals_diff/' + strs[1] + '/frame.%04d.npz\", ' %(int(strs[2])) + \\\n",
    "                '\"fpath_line\": \"' + strs[-1] + '/' + strs[0] + '/lines/' + strs[1] + '/segments' + '/frame.%04d.segments.pk\", ' %(int(strs[2])) + \\\n",
    "                '\"width\": 1024, \"height\": 768}\\n')"
   ]
  },
  {
   "cell_type": "code",
   "execution_count": 16,
   "metadata": {},
   "outputs": [],
   "source": [
    "with open('metadata_images_split_scene_v1.csv') as old, open('training_hypersim_short.odgt', 'w') as new:\n",
    "    for line in old:\n",
    "        strs = line.replace('\\n', '').split(',')\n",
    "        if(strs[0].split('_')[1] == '004'):\n",
    "            break\n",
    "        if (strs[-2] == '' and bool(strs[-3]) and strs[-1] == 'train'):\n",
    "            new.write('{\"fpath_img\": \"' + strs[-1] + '/' + strs[0] + '/images/scene_' + strs[1] + '_final_preview/frame.%04d.color.jpg\", ' % (int(strs[2])) + \\\n",
    "                '\"fpath_segm\": \"' + strs[-1] + '/' + strs[0] + '/normals_diff/' + strs[1] + '/frame.%04d.npz\", ' %(int(strs[2])) + \\\n",
    "                '\"fpath_line\": \"' + strs[-1] + '/' + strs[0] + '/lines/' + strs[1] + '/segments' + '/frame.%04d.segments.pk\", ' %(int(strs[2])) + \\\n",
    "                '\"width\": 1024, \"height\": 768}\\n')"
   ]
  },
  {
   "cell_type": "code",
   "execution_count": 17,
   "metadata": {},
   "outputs": [],
   "source": [
    "with open('metadata_images_split_scene_v1.csv') as old, open('validation_hypersim_short.odgt', 'w') as new:\n",
    "    for line in old:\n",
    "        strs = line.replace('\\n', '').split(',')\n",
    "        # print(strs)\n",
    "        if(strs[0].split('_')[1] == '004'):\n",
    "            break\n",
    "        if (strs[-2] == '' and bool(strs[-3]) and strs[-1] == 'val'):\n",
    "            new.write('{\"fpath_img\": \"' + strs[-1] + '/' + strs[0] + '/images/scene_' + strs[1] + '_final_preview/frame.%04d.color.jpg\", ' % (int(strs[2])) + \\\n",
    "                '\"fpath_segm\": \"' + strs[-1] + '/' + strs[0] + '/normals_diff/' + strs[1] + '/frame.%04d.npz\", ' %(int(strs[2])) + \\\n",
    "                '\"fpath_line\": \"' + strs[-1] + '/' + strs[0] + '/lines/' + strs[1] + '/segments' + '/frame.%04d.segments.pk\", ' %(int(strs[2])) + \\\n",
    "                '\"width\": 1024, \"height\": 768}\\n')"
   ]
  },
  {
   "cell_type": "code",
   "execution_count": null,
   "metadata": {},
   "outputs": [],
   "source": []
  }
 ],
 "metadata": {
  "kernelspec": {
   "display_name": "base",
   "language": "python",
   "name": "python3"
  },
  "language_info": {
   "codemirror_mode": {
    "name": "ipython",
    "version": 3
   },
   "file_extension": ".py",
   "mimetype": "text/x-python",
   "name": "python",
   "nbconvert_exporter": "python",
   "pygments_lexer": "ipython3",
   "version": "3.9.15"
  },
  "orig_nbformat": 4,
  "vscode": {
   "interpreter": {
    "hash": "4f496aadf32fdecdeb2f21ee9c0b6ec7c020a64b4674a0cccfdfed25fa965059"
   }
  }
 },
 "nbformat": 4,
 "nbformat_minor": 2
}
